{
 "cells": [
  {
   "cell_type": "code",
   "execution_count": 2,
   "metadata": {},
   "outputs": [],
   "source": [
    "import requests"
   ]
  },
  {
   "cell_type": "code",
   "execution_count": 3,
   "metadata": {},
   "outputs": [],
   "source": [
    "r = requests.get(\"http://www.baidu.com\")\n"
   ]
  },
  {
   "cell_type": "code",
   "execution_count": 5,
   "metadata": {},
   "outputs": [
    {
     "data": {
      "text/plain": [
       "200"
      ]
     },
     "execution_count": 5,
     "metadata": {},
     "output_type": "execute_result"
    }
   ],
   "source": [
    "r.status_code"
   ]
  },
  {
   "cell_type": "code",
   "execution_count": 9,
   "metadata": {},
   "outputs": [
    {
     "data": {
      "text/plain": [
       "'ISO-8859-1'"
      ]
     },
     "execution_count": 9,
     "metadata": {},
     "output_type": "execute_result"
    }
   ],
   "source": [
    "r.encoding"
   ]
  },
  {
   "cell_type": "code",
   "execution_count": 11,
   "metadata": {},
   "outputs": [
    {
     "data": {
      "text/plain": [
       "'utf-8'"
      ]
     },
     "execution_count": 11,
     "metadata": {},
     "output_type": "execute_result"
    }
   ],
   "source": [
    "r.apparent_encoding"
   ]
  },
  {
   "cell_type": "code",
   "execution_count": 12,
   "metadata": {},
   "outputs": [
    {
     "data": {
      "text/plain": [
       "'<!DOCTYPE html>\\r\\n<!--STATUS OK--><html> <head><meta http-equiv=content-type content=text/html;charset=utf-8><meta http-equiv=X-UA-Compatible content=IE=Edge><meta content=always name=referrer><link rel=stylesheet type=text/css href=http://s1.bdstatic.com/r/www/cache/bdorz/baidu.min.css><title>百度一下，你就知道</title></head> <body link=#0000cc> <div id=wrapper> <div id=head> <div class=head_wrapper> <div class=s_form> <div class=s_form_wrapper> <div id=lg> <img hidefocus=true src=//www.baidu.com/img/bd_logo1.png width=270 height=129> </div> <form id=form name=f action=//www.baidu.com/s class=fm> <input type=hidden name=bdorz_come value=1> <input type=hidden name=ie value=utf-8> <input type=hidden name=f value=8> <input type=hidden name=rsv_bp value=1> <input type=hidden name=rsv_idx value=1> <input type=hidden name=tn value=baidu><span class=\"bg s_ipt_wr\"><input id=kw name=wd class=s_ipt value maxlength=255 autocomplete=off autofocus></span><span class=\"bg s_btn_wr\"><input type=submit id=su value=百度一下 class=\"bg s_btn\"></span> </form> </div> </div> <div id=u1> <a href=http://news.baidu.com name=tj_trnews class=mnav>新闻</a> <a href=http://www.hao123.com name=tj_trhao123 class=mnav>hao123</a> <a href=http://map.baidu.com name=tj_trmap class=mnav>地图</a> <a href=http://v.baidu.com name=tj_trvideo class=mnav>视频</a> <a href=http://tieba.baidu.com name=tj_trtieba class=mnav>贴吧</a> <noscript> <a href=http://www.baidu.com/bdorz/login.gif?login&amp;tpl=mn&amp;u=http%3A%2F%2Fwww.baidu.com%2f%3fbdorz_come%3d1 name=tj_login class=lb>登录</a> </noscript> <script>document.write(\\'<a href=\"http://www.baidu.com/bdorz/login.gif?login&tpl=mn&u=\\'+ encodeURIComponent(window.location.href+ (window.location.search === \"\" ? \"?\" : \"&\")+ \"bdorz_come=1\")+ \\'\" name=\"tj_login\" class=\"lb\">登录</a>\\');</script> <a href=//www.baidu.com/more/ name=tj_briicon class=bri style=\"display: block;\">更多产品</a> </div> </div> </div> <div id=ftCon> <div id=ftConw> <p id=lh> <a href=http://home.baidu.com>关于百度</a> <a href=http://ir.baidu.com>About Baidu</a> </p> <p id=cp>&copy;2017&nbsp;Baidu&nbsp;<a href=http://www.baidu.com/duty/>使用百度前必读</a>&nbsp; <a href=http://jianyi.baidu.com/ class=cp-feedback>意见反馈</a>&nbsp;京ICP证030173号&nbsp; <img src=//www.baidu.com/img/gs.gif> </p> </div> </div> </div> </body> </html>\\r\\n'"
      ]
     },
     "execution_count": 12,
     "metadata": {},
     "output_type": "execute_result"
    }
   ],
   "source": [
    "r.encoding = r.apparent_encoding\n",
    "r.text"
   ]
  },
  {
   "cell_type": "code",
   "execution_count": 24,
   "metadata": {},
   "outputs": [],
   "source": [
    "def tryHTMLText(url):\n",
    "    try:\n",
    "        r = requests.get(url)\n",
    "        r.raise_for_status\n",
    "        r.encoding = r.apparent_encoding\n",
    "        return r.text[:1000]\n",
    "    except:\n",
    "        return 'have some problem'"
   ]
  },
  {
   "cell_type": "code",
   "execution_count": 25,
   "metadata": {},
   "outputs": [
    {
     "data": {
      "text/plain": [
       "'<!DOCTYPE html>\\r\\n<!--STATUS OK--><html> <head><meta http-equiv=content-type content=text/html;charset=utf-8><meta http-equiv=X-UA-Compatible content=IE=Edge><meta content=always name=referrer><link rel=stylesheet type=text/css href=http://s1.bdstatic.com/r/www/cache/bdorz/baidu.min.css><title>百度一下，你就知道</title></head> <body link=#0000cc> <div id=wrapper> <div id=head> <div class=head_wrapper> <div class=s_form> <div class=s_form_wrapper> <div id=lg> <img hidefocus=true src=//www.baidu.com/img/bd_logo1.png width=270 height=129> </div> <form id=form name=f action=//www.baidu.com/s class=fm> <input type=hidden name=bdorz_come value=1> <input type=hidden name=ie value=utf-8> <input type=hidden name=f value=8> <input type=hidden name=rsv_bp value=1> <input type=hidden name=rsv_idx value=1> <input type=hidden name=tn value=baidu><span class=\"bg s_ipt_wr\"><input id=kw name=wd class=s_ipt value maxlength=255 autocomplete=off autofocus></span><span class=\"bg s_btn_wr\"><input type=submit id=su va'"
      ]
     },
     "execution_count": 25,
     "metadata": {},
     "output_type": "execute_result"
    }
   ],
   "source": [
    "url = \"http://www.baidu.com\"\n",
    "tryHTMLText(url)"
   ]
  },
  {
   "cell_type": "code",
   "execution_count": 21,
   "metadata": {},
   "outputs": [
    {
     "data": {
      "text/plain": [
       "{'Cache-Control': 'private, no-cache, no-store, proxy-revalidate, no-transform', 'Connection': 'Keep-Alive', 'Content-Encoding': 'gzip', 'Content-Type': 'text/html', 'Date': 'Fri, 06 Sep 2019 09:04:18 GMT', 'Last-Modified': 'Mon, 23 Jan 2017 13:27:36 GMT', 'Pragma': 'no-cache', 'Server': 'bfe/1.0.8.18', 'Set-Cookie': 'BDORZ=27315; max-age=86400; domain=.baidu.com; path=/', 'Transfer-Encoding': 'chunked'}"
      ]
     },
     "execution_count": 21,
     "metadata": {},
     "output_type": "execute_result"
    }
   ],
   "source": [
    "r.headers"
   ]
  },
  {
   "cell_type": "code",
   "execution_count": 26,
   "metadata": {},
   "outputs": [
    {
     "data": {
      "text/plain": [
       "'<!DOCTYPE HTML>\\n<html lang=\"zh-CN\">\\n<head>\\n    <!--new book-->\\n    <meta http-equiv=\"Content-Type\" content=\"text/html; charset=gbk\" />\\n    <title>《SQL权威指南（第4版）》([美]Joe Celko)【摘要 书评 试读】- 京东图书</title>\\n    <meta name=\"keywords\" content=\"SQL权威指南（第4版）,,人民邮电出版社,9787115296634,,在线购买,折扣,打折\"/>\\n    <meta name=\"description\" content=\"京东JD.COM图书频道为您提供《SQL权威指南（第4版）》在线选购，本书作者：，出版社：人民邮电出版社。买图书，到京东。网购图书，享受最低优惠折扣!\" />\\n    <meta name=\"format-detection\" content=\"telephone=no\">\\n    <meta http-equiv=\"mobile-agent\" content=\"format=xhtml; url=//item.m.jd.com/product/11137703.html\">\\n    <meta http-equiv=\"mobile-agent\" content=\"format=html5; url=//item.m.jd.com/product/11137703.html\">\\n    <meta http-equiv=\"X-UA-Compatible\" content=\"IE=Edge\">\\n    <link rel=\"canonical\" href=\"//item.jd.com/11137703.html\"/>\\n        <link rel=\"dns-prefetch\" href=\"//misc.360buyimg.com\"/>\\n    <link rel=\"dns-prefetch\" href=\"//static.360buyimg.com\"/>\\n    <link rel=\"dns-prefetch\" href=\"//img10.360buyimg.com\"/>\\n    <link rel=\"dns-prefetch\"'"
      ]
     },
     "execution_count": 26,
     "metadata": {},
     "output_type": "execute_result"
    }
   ],
   "source": [
    "url = \"https://item.jd.com/11137703.html\"\n",
    "tryHTMLText(url)"
   ]
  },
  {
   "cell_type": "code",
   "execution_count": 23,
   "metadata": {},
   "outputs": [
    {
     "name": "stdout",
     "output_type": "stream",
     "text": [
      "{'Cache-Control': 'private, no-cache, no-store, proxy-revalidate, no-transform', 'Connection': 'Keep-Alive', 'Content-Encoding': 'gzip', 'Content-Type': 'text/html', 'Date': 'Fri, 06 Sep 2019 09:04:18 GMT', 'Last-Modified': 'Mon, 23 Jan 2017 13:27:36 GMT', 'Pragma': 'no-cache', 'Server': 'bfe/1.0.8.18', 'Set-Cookie': 'BDORZ=27315; max-age=86400; domain=.baidu.com; path=/', 'Transfer-Encoding': 'chunked'}\n",
      "{'User-Agent': 'python-requests/2.22.0', 'Accept-Encoding': 'gzip, deflate', 'Accept': '*/*', 'Connection': 'keep-alive'}\n"
     ]
    }
   ],
   "source": [
    "print(r.headers)\n",
    "print(r.request.headers)"
   ]
  },
  {
   "cell_type": "code",
   "execution_count": 37,
   "metadata": {},
   "outputs": [],
   "source": [
    "def tryHTMLText_02(url):\n",
    "    try:\n",
    "        kv = {'user-agent': 'Mozilla/5.0'}\n",
    "        r = requests.get(url, headers = kv)\n",
    "        r.raise_for_status\n",
    "        print(r.encoding)\n",
    "        r.encoding = r.apparent_encoding\n",
    "        print(r.request.headers)\n",
    "        return r.text[:1000]\n",
    "    except:\n",
    "        return print('wrooooong')\n",
    "    "
   ]
  },
  {
   "cell_type": "code",
   "execution_count": 38,
   "metadata": {},
   "outputs": [
    {
     "name": "stdout",
     "output_type": "stream",
     "text": [
      "ISO-8859-1\n",
      "{'user-agent': 'Mozilla/5.0', 'Accept-Encoding': 'gzip, deflate', 'Accept': '*/*', 'Connection': 'keep-alive'}\n"
     ]
    },
    {
     "data": {
      "text/plain": [
       "'<!DOCTYPE HTML PUBLIC \"-//W3C//DTD HTML 4.01 Transitional//EN\">\\n<html lang=\"zh-cn\">\\n\\n<head>\\n    <meta http-equiv=\"Page-Enter\" content=\"blendTrans(Duration=0.5)\">\\n    <meta http-equiv=\"Page-Exit\" content=\"blendTrans(Duration=0.5)\">\\n    <meta http-equiv=\"Content-Type\" content=\"text/html; charset=utf-8\">\\n    <title>出错啦! - bilibili.com</title>\\n    <style type=\"text/css\">\\n        body {\\n            vertical-align: middle;\\n        }\\n\\n        div.center {\\n            position: absolute;\\n            top: 50%;\\n            left: 50%;\\n            margin: -25% 0 0 -320px;\\n            width: 640px;\\n            min-height: 427px;\\n            padding: 0px;\\n        }\\n\\n        div.errmsg {\\n            text-align: left;\\n            width: 640px;\\n            line-height: 150%;\\n        }\\n\\n        a {\\n            text-decoration: none;\\n            color: red\\n        }\\n\\n        .center {\\n            display: none\\n        }\\n    </style>\\n    <link rel=\"shortcut icon\" href=\"//static.hdslb.com/images/favicon.ic'"
      ]
     },
     "execution_count": 38,
     "metadata": {},
     "output_type": "execute_result"
    }
   ],
   "source": [
    "url = \"https://www.bilibili.com/video/av9784617?p=16\"\n",
    "tryHTMLText_02(url)"
   ]
  },
  {
   "cell_type": "code",
   "execution_count": 50,
   "metadata": {},
   "outputs": [],
   "source": [
    "def tryHTMLText_03(keyword):\n",
    "    try:\n",
    "        kv = {'wd': keyword}\n",
    "        r = requests.get('http://www.baidu.com/s', params=kv)\n",
    "        r.raise_for_status\n",
    "        r.encoding = r.apparent_encoding\n",
    "        print(r.request.url)\n",
    "        print(len(r.text))\n",
    "        return print(r.text[:1000])\n",
    "    except:\n",
    "        print('wrong')"
   ]
  },
  {
   "cell_type": "code",
   "execution_count": 51,
   "metadata": {},
   "outputs": [
    {
     "name": "stdout",
     "output_type": "stream",
     "text": [
      "http://www.baidu.com/s?wd=python\n",
      "438319\n",
      "<!DOCTYPE html>\n",
      "<!--STATUS OK-->\n",
      "\r\n",
      "\r\n",
      "\r\n",
      "\r\n",
      "\r\n",
      "\r\n",
      "\r\n",
      "\r\n",
      "\r\n",
      "\r\n",
      "\r\n",
      "\r\n",
      "\r\n",
      "\r\n",
      "\r\n",
      "\r\n",
      "\r\n",
      "\r\n",
      "\r\n",
      "\r\n",
      "\r\n",
      "\r\n",
      "\r\n",
      "\r\n",
      "\r\n",
      "\r\n",
      "\r\n",
      "\r\n",
      "\r\n",
      "\r\n",
      "\r\n",
      "\r\n",
      "\r\n",
      "\r\n",
      "\r\n",
      "\r\n",
      "\r\n",
      "\r\n",
      "\r\n",
      "\r\n",
      "\r\n",
      "\r\n",
      "\r\n",
      "\r\n",
      "\r\n",
      "\r\n",
      "\r\n",
      "\r\n",
      "\r\n",
      "\r\n",
      "\r\n",
      "\r\n",
      "\r\n",
      "\r\n",
      "\r\n",
      "\r\n",
      "\t\r\n",
      "\r\n",
      "\r\n",
      "\r\n",
      "\r\n",
      "\r\n",
      "\r\n",
      "\r\n",
      "\r\n",
      "\r\n",
      "\r\n",
      "\r\n",
      "\r\n",
      "\n",
      "\n",
      "\n",
      "<html>\n",
      "\t<head>\n",
      "\t\t\n",
      "\t\t<meta http-equiv=\"X-UA-Compatible\" content=\"IE=edge,chrome=1\">\n",
      "\t\t<meta http-equiv=\"content-type\" content=\"text/html;charset=utf-8\">\n",
      "\t\t<meta content=\"always\" name=\"referrer\">\n",
      "        <meta name=\"theme-color\" content=\"#2932e1\">\n",
      "        <link rel=\"shortcut icon\" href=\"/favicon.ico\" type=\"image/x-icon\" />\n",
      "        <link rel=\"icon\" sizes=\"any\" mask href=\"//www.baidu.com/img/baidu_85beaf5496f291521eb75ba38eacbd87.svg\">\n",
      "        <link rel=\"search\" type=\"application/opensearchdescription+xml\" href=\"/content-search.xml\" title=\"百度搜索\" />\n",
      "\t\t\n",
      "\t\t\n",
      "<title>python_百度搜索</title>\n",
      "\n",
      "\t\t\n",
      "\n",
      "\t\t\n",
      "<style data-for=\"result\" type=\"text/css\" id=\"css_newi_result\">body{color:#333;background:#fff;padding:6px 0 0;margin:0;position:relative;min-width:900px}\n",
      "body,th,td,.p1,.p2{font-family:arial}\n",
      "p,form,ol,ul,li,dl,dt,dd,h3{margin:0;padd\n"
     ]
    }
   ],
   "source": [
    "keyword = 'python'\n",
    "tryHTMLText_03(keyword)"
   ]
  },
  {
   "cell_type": "code",
   "execution_count": 52,
   "metadata": {},
   "outputs": [
    {
     "name": "stdout",
     "output_type": "stream",
     "text": [
      "save!\n"
     ]
    }
   ],
   "source": [
    "import os\n",
    "url = \"https://gss2.bdstatic.com/-fo3dSag_xI4khGkpoWK1HF6hhy/baike/c0%3Dbaike80%2C5%2C5%2C80%2C26/sign=bd5706f0ad1ea8d39e2f7c56f6635b2b/1e30e924b899a901c2a5ea7d16950a7b0308f5ed.jpg\"\n",
    "root = \"/Users/lingyu/Desktop/\"\n",
    "path = root + url.split('/')[-1]\n",
    "try:\n",
    "    if not os.path.exists(root):\n",
    "        os.mkdir(root)\n",
    "    if not os.path.exists(path):\n",
    "        r = requests.get(url)\n",
    "        with open(path,'wb') as f:\n",
    "            f.write(r.content)\n",
    "            f.close()\n",
    "            print(\"save!\")\n",
    "    else:\n",
    "        print(\"已存在该文件！\")\n",
    "except:\n",
    "    print(\"failure!\")\n"
   ]
  },
  {
   "cell_type": "code",
   "execution_count": 68,
   "metadata": {},
   "outputs": [
    {
     "name": "stdout",
     "output_type": "stream",
     "text": [
      "ter></div>\r\n",
      "<form method=\"post\" action=\"http://qq.ip138.com/weather/search.asp\" name=\"weathersearch\" target=\"_blank\">\r\n",
      "<input type=\"hidden\" name=\"k\" value=\"\" />\r\n",
      "</form>\r\n",
      "<form method=\"post\" action=\"http://www.ip138.com/post/search.asp\" name=\"area2zip\" target=\"_blank\">\r\n",
      "<input type=\"hidden\" name=\"area\" value=\"\" />\r\n",
      "<input type=\"hidden\" name=\"action\" value=\"area2zip\" />\r\n",
      "</form>\r\n",
      "<table width=\"80%\"  border=\"0\" align=\"center\" cellpadding=\"0\" cellspacing=\"0\">\r\n",
      "\t<tr>\r\n",
      "\t\t<td align=\"center\"><h3>ip138.com IP查询(搜索IP地址的地理位置)</h3></td>\r\n",
      "\t</tr>\r\n",
      "\t<tr>\r\n",
      "\t\t<td align=\"center\"><h1>您查询的IP:55.55.55.55</h1></td>\r\n",
      "\t</tr>\r\n",
      "\t<tr>\r\n",
      "\t\t<td align=\"center\"><ul class=\"ul1\"><li>本站数据：美国   弗吉尼亚美国陆军部队</li><li>参考数据1：美国  </li><li>参考数据2：美国 弗吉尼亚美国陆军部队</li><li>兼容IPv6地址：::3737:3737</li><li>映射IPv6地址：::FFFF:3737:3737</li></ul></td>\r\n",
      "\t</tr>\r\n",
      "\t<tr>\r\n",
      "\t\t<td align=\"center\"><a href=\"/idc/\" target=\"_blank\"><b>idc公司大全</b></a> | <a href=\"http://user.ip138.com/ip/\" target=\"_blank\"><b>ip查询接口</b></a> | <a href=\"https://www.chajiechi.cn/\" target=\"_blank\"><b><font color=\"red\">劫持检测</font></b></a></td>\r\n",
      "\t</tr>\r\n",
      "\t<tr>\r\n",
      "\t\t<td align=\"center\">如果您发现查询结果不详细或不正确，请使用<a href=\"ip_add.asp?ip=55.55.55.55\"><font color=\"#006600\"><b>IP数据库自助添加</b></font></a>功能进行修正<br/><br/>\r\n",
      "<p align=\"center\">\r\n",
      "<div align=\"center\">\r\n",
      "<!--\r\n",
      "<script type=\"text/javascript\">\r\n",
      "var cpro_id = \"u2962614\";\r\n",
      "</script>\r\n",
      "<script type=\"text/javascript\" src=\"http://cpro.baidustatic.com/cpro/ui/c.js\"></script>\r\n",
      "-->\r\n",
      "<a href=\"https://www.yisu.com/hk/huodong.html?f=ip138&;unit=ip468\" target=\"_blank\" rel=\"nofollow\"><img src=\"http://p.abcache.com/xc/image/yisu-468x60.gif\"/></a>\r\n",
      "</div>\r\n",
      "</p>\r\n",
      "<br/></td>\r\n",
      "\t</tr>\r\n",
      "\t<form method=\"get\" action=\"ips1388.asp\" name=\"ipform\" onsubmit=\"return checkIP();\">\r\n",
      "\t<tr>\r\n",
      "\t\t<td align=\"center\">IP地址或者域名：<input type=\"text\" name=\"ip\" size=\"16\"> <input type=\"submit\" value=\"查询\"><input type=\"hidden\" name=\"action\" value=\"2\"></td>\r\n",
      "\t</tr><br>\r\n",
      "<br>\r\n",
      "\t</form>\r\n",
      "</table>\r\n",
      "<p align=\"center\">如发现小部分ip查询结果不正确请到官方网站<a\r\n",
      "href=\"http://www.apnic.net\" rel=\"nofollow\" target=\"_blank\">http://www.apnic.net</a>查询,以apnic为准</p>\r\n",
      "<p align=\"center\">\r\n",
      "<div align=\"center\">\r\n",
      "<!--\r\n",
      "<script type=\"text/javascript\">\r\n",
      "var cpro_id = \"u2962622\";\r\n",
      "</script>\r\n",
      "<script type=\"text/javascript\" src=\"http://cpro.baidustatic.com/cpro/ui/c.js\"></script>\r\n",
      "-->\r\n",
      "<a href=\"https://www.yisu.com/ddos/huodong/?f=ip138&unit=ip728\" target=\"_blank\" rel=\"nofollow\"><img src=\"http://p.abcache.com/xc/image/yun728x90.gif\" width=\"728\" height=\"90\"/></a>\r\n",
      "</div>\r\n",
      "</p>\r\n",
      "<p align=\"center\"></a>联系我们.请<a href=\"mail.htm\" rel=\"nofollow\" target=\"_blank\">发email</a>.或给<a\r\n",
      "href=\"http://qq.3533.com:8080/book.asp?siteid=7\" rel=\"nofollow\" target=\"_blank\">我们留言</a>谢谢!</p>\r\n",
      "<p align=\"center\">沪ICP备10013467号-1号</p>\r\n",
      "<script>\r\n",
      "var _hmt = _hmt || [];\r\n",
      "(function() {\r\n",
      "  var hm = document.createElement(\"script\");\r\n",
      "  hm.src = \"https://hm.baidu.com/hm.js?b018ba5033f3b0d184416653ad858a48\";\r\n",
      "  var s = document.getElementsByTagName(\"script\")[0]; \r\n",
      "  s.parentNode.insertBefore(hm, s);\r\n",
      "})();\r\n",
      "</script>\r\n",
      "</body>\r\n",
      "</html>\n"
     ]
    }
   ],
   "source": [
    "url = \"http://www.ip138.com/ips138.asp\"\n",
    "kv = {'ip':'55.55.55.55'}\n",
    "useragent = {'user-agent':'Mozilla/5.0'}\n",
    "try:\n",
    "    r = requests.get(url,params=kv,headers = useragent)\n",
    "    r.raise_for_status\n",
    "    r.encoding = r.apparent_encoding\n",
    "    print(r.text[-3000:])\n",
    "except:\n",
    "    print(\"failure!\")"
   ]
  },
  {
   "cell_type": "code",
   "execution_count": 63,
   "metadata": {},
   "outputs": [
    {
     "name": "stdout",
     "output_type": "stream",
     "text": [
      "tp://www.apnic.net</a>²éÑ¯,ÒÔapnicÎª×¼</p>\r\n",
      "<p align=\"center\">\r\n",
      "<div align=\"center\">\r\n",
      "<!--\r\n",
      "<script type=\"text/javascript\">\r\n",
      "var cpro_id = \"u2962622\";\r\n",
      "</script>\r\n",
      "<script type=\"text/javascript\" src=\"http://cpro.baidustatic.com/cpro/ui/c.js\"></script>\r\n",
      "-->\r\n",
      "<a href=\"https://www.yisu.com/ddos/huodong/?f=ip138&unit=ip728\" target=\"_blank\" rel=\"nofollow\"><img src=\"http://p.abcache.com/xc/image/yun728x90.gif\" width=\"728\" height=\"90\"/></a>\r\n",
      "</div>\r\n",
      "</p>\r\n",
      "<p align=\"center\"></a>ÁªÏµÎÒÃÇ.Çë<a href=\"mail.htm\" rel=\"nofollow\" target=\"_blank\">·¢email</a>.»ò¸ø<a\r\n",
      "href=\"http://qq.3533.com:8080/book.asp?siteid=7\" rel=\"nofollow\" target=\"_blank\">ÎÒÃÇÁôÑÔ</a>Ð»Ð»!</p>\r\n",
      "<p align=\"center\">»¦ICP±¸10013467ºÅ-1ºÅ</p>\r\n",
      "<script>\r\n",
      "var _hmt = _hmt || [];\r\n",
      "(function() {\r\n",
      "  var hm = document.createElement(\"script\");\r\n",
      "  hm.src = \"https://hm.baidu.com/hm.js?b018ba5033f3b0d184416653ad858a48\";\r\n",
      "  var s = document.getElementsByTagName(\"script\")[0]; \r\n",
      "  s.parentNode.insertBefore(hm, s);\r\n",
      "})();\r\n",
      "</script>\r\n",
      "</body>\r\n",
      "</html>\n"
     ]
    }
   ],
   "source": []
  },
  {
   "cell_type": "code",
   "execution_count": null,
   "metadata": {},
   "outputs": [],
   "source": []
  }
 ],
 "metadata": {
  "kernelspec": {
   "display_name": "Python 3",
   "language": "python",
   "name": "python3"
  },
  "language_info": {
   "codemirror_mode": {
    "name": "ipython",
    "version": 3
   },
   "file_extension": ".py",
   "mimetype": "text/x-python",
   "name": "python",
   "nbconvert_exporter": "python",
   "pygments_lexer": "ipython3",
   "version": "3.6.5"
  }
 },
 "nbformat": 4,
 "nbformat_minor": 2
}
