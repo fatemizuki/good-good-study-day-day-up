{
 "cells": [
  {
   "cell_type": "code",
   "execution_count": 1,
   "metadata": {},
   "outputs": [],
   "source": [
    "from bs4 import BeautifulSoup\n",
    "import requests\n",
    "import re"
   ]
  },
  {
   "cell_type": "code",
   "execution_count": 2,
   "metadata": {},
   "outputs": [
    {
     "name": "stdout",
     "output_type": "stream",
     "text": [
      "<!DOCTYPE html>\n",
      "\n",
      "<!--STATUS OK--><html> <head><meta content=\"text/html;charset=utf-8\" http-equiv=\"content-type\"/><meta content=\"IE=Edge\" http-equiv=\"X-UA-Compatible\"/><meta content=\"always\" name=\"referrer\"/><link href=\"http://s1.bdstatic.com/r/www/cache/bdorz/baidu.min.css\" rel=\"stylesheet\" type=\"text/css\"/><title>百度一下，你就知道</title></head> <body link=\"#0000cc\"> <div id=\"wrapper\"> <div id=\"head\"> <div class=\"head_wrapper\"> <div class=\"s_form\"> <div class=\"s_form_wrapper\"> <div id=\"lg\"> <img height=\"129\" hidefocus=\"true\" src=\"//www.baidu.com/img/bd_logo1.png\" width=\"270\"/> </div> <form action=\"//www.baidu.com/s\" class=\"fm\" id=\"form\" name=\"f\"> <input name=\"bdorz_come\" type=\"hidden\" value=\"1\"/> <input name=\"ie\" type=\"hidden\" value=\"utf-8\"/> <input name=\"f\" type=\"hidden\" value=\"8\"/> <input name=\"rsv_bp\" type=\"hidden\" value=\"1\"/> <input name=\"rsv_idx\" type=\"hidden\" value=\"1\"/> <input name=\"tn\" type=\"hidden\" value=\"baidu\"/><span class=\"bg s_ipt_wr\"><input autocomplete=\"off\" autofocus=\"\" class=\"s_ipt\" id=\"kw\" maxlength=\"255\" name=\"wd\" value=\"\"/></span><span class=\"bg s_btn_wr\"><input class=\"bg s_btn\" id=\"su\" type=\"submit\" value=\"百度一下\"/></span> </form> </div> </div> <div id=\"u1\"> <a class=\"mnav\" href=\"http://news.baidu.com\" name=\"tj_trnews\">新闻</a> <a class=\"mnav\" href=\"http://www.hao123.com\" name=\"tj_trhao123\">hao123</a> <a class=\"mnav\" href=\"http://map.baidu.com\" name=\"tj_trmap\">地图</a> <a class=\"mnav\" href=\"http://v.baidu.com\" name=\"tj_trvideo\">视频</a> <a class=\"mnav\" href=\"http://tieba.baidu.com\" name=\"tj_trtieba\">贴吧</a> <noscript> <a class=\"lb\" href=\"http://www.baidu.com/bdorz/login.gif?login&amp;tpl=mn&amp;u=http%3A%2F%2Fwww.baidu.com%2f%3fbdorz_come%3d1\" name=\"tj_login\">登录</a> </noscript> <script>document.write('<a href=\"http://www.baidu.com/bdorz/login.gif?login&tpl=mn&u='+ encodeURIComponent(window.location.href+ (window.location.search === \"\" ? \"?\" : \"&\")+ \"bdorz_come=1\")+ '\" name=\"tj_login\" class=\"lb\">登录</a>');</script> <a class=\"bri\" href=\"//www.baidu.com/more/\" name=\"tj_briicon\" style=\"display: block;\">更多产品</a> </div> </div> </div> <div id=\"ftCon\"> <div id=\"ftConw\"> <p id=\"lh\"> <a href=\"http://home.baidu.com\">关于百度</a> <a href=\"http://ir.baidu.com\">About Baidu</a> </p> <p id=\"cp\">©2017 Baidu <a href=\"http://www.baidu.com/duty/\">使用百度前必读</a>  <a class=\"cp-feedback\" href=\"http://jianyi.baidu.com/\">意见反馈</a> 京ICP证030173号  <img src=\"//www.baidu.com/img/gs.gif\"/> </p> </div> </div> </div> </body> </html>\n",
      "\n"
     ]
    }
   ],
   "source": [
    "url = \"http://www.baidu.com\"\n",
    "\n",
    "try:\n",
    "    r = requests.get(url)\n",
    "    r.raise_for_status\n",
    "    r.encoding = r.apparent_encoding\n",
    "    demo = r.text\n",
    "except:\n",
    "    print(\"wrong\")\n",
    "\n",
    "soup = BeautifulSoup(demo, 'html.parser')\n",
    "print(soup)"
   ]
  },
  {
   "cell_type": "code",
   "execution_count": 3,
   "metadata": {},
   "outputs": [
    {
     "data": {
      "text/plain": [
       "<title>百度一下，你就知道</title>"
      ]
     },
     "execution_count": 3,
     "metadata": {},
     "output_type": "execute_result"
    }
   ],
   "source": [
    "soup.title"
   ]
  },
  {
   "cell_type": "code",
   "execution_count": 4,
   "metadata": {},
   "outputs": [
    {
     "data": {
      "text/plain": [
       "<a class=\"mnav\" href=\"http://news.baidu.com\" name=\"tj_trnews\">新闻</a>"
      ]
     },
     "execution_count": 4,
     "metadata": {},
     "output_type": "execute_result"
    }
   ],
   "source": [
    "soup.a"
   ]
  },
  {
   "cell_type": "code",
   "execution_count": 5,
   "metadata": {},
   "outputs": [
    {
     "data": {
      "text/plain": [
       "'a'"
      ]
     },
     "execution_count": 5,
     "metadata": {},
     "output_type": "execute_result"
    }
   ],
   "source": [
    "soup.a.name"
   ]
  },
  {
   "cell_type": "code",
   "execution_count": 6,
   "metadata": {},
   "outputs": [
    {
     "data": {
      "text/plain": [
       "'div'"
      ]
     },
     "execution_count": 6,
     "metadata": {},
     "output_type": "execute_result"
    }
   ],
   "source": [
    "soup.a.parent.name"
   ]
  },
  {
   "cell_type": "code",
   "execution_count": 7,
   "metadata": {},
   "outputs": [
    {
     "data": {
      "text/plain": [
       "'div'"
      ]
     },
     "execution_count": 7,
     "metadata": {},
     "output_type": "execute_result"
    }
   ],
   "source": [
    "soup.a.parent.parent.name"
   ]
  },
  {
   "cell_type": "code",
   "execution_count": 8,
   "metadata": {},
   "outputs": [
    {
     "data": {
      "text/plain": [
       "{}"
      ]
     },
     "execution_count": 8,
     "metadata": {},
     "output_type": "execute_result"
    }
   ],
   "source": [
    "soup.attrs"
   ]
  },
  {
   "cell_type": "code",
   "execution_count": 9,
   "metadata": {},
   "outputs": [
    {
     "name": "stdout",
     "output_type": "stream",
     "text": [
      "<class 'dict'>\n",
      "<class 'bs4.BeautifulSoup'>\n"
     ]
    }
   ],
   "source": [
    "print(type(soup.attrs))\n",
    "print(type(soup))"
   ]
  },
  {
   "cell_type": "code",
   "execution_count": 10,
   "metadata": {},
   "outputs": [
    {
     "name": "stdout",
     "output_type": "stream",
     "text": [
      "新闻\n",
      "<class 'bs4.element.NavigableString'>\n"
     ]
    }
   ],
   "source": [
    "print(soup.a.string)\n",
    "print(type(soup.a.string))"
   ]
  },
  {
   "cell_type": "code",
   "execution_count": 11,
   "metadata": {},
   "outputs": [
    {
     "name": "stdout",
     "output_type": "stream",
     "text": [
      "[<meta content=\"text/html;charset=utf-8\" http-equiv=\"content-type\"/>, <meta content=\"IE=Edge\" http-equiv=\"X-UA-Compatible\"/>, <meta content=\"always\" name=\"referrer\"/>]\n",
      "5\n"
     ]
    }
   ],
   "source": [
    "print(soup.head.contents[:3])\n",
    "print(len(soup.head.contents))"
   ]
  },
  {
   "cell_type": "code",
   "execution_count": 12,
   "metadata": {},
   "outputs": [
    {
     "name": "stdout",
     "output_type": "stream",
     "text": [
      "<meta content=\"text/html;charset=utf-8\" http-equiv=\"content-type\"/>\n",
      "<meta content=\"IE=Edge\" http-equiv=\"X-UA-Compatible\"/>\n",
      "<meta content=\"always\" name=\"referrer\"/>\n",
      "<link href=\"http://s1.bdstatic.com/r/www/cache/bdorz/baidu.min.css\" rel=\"stylesheet\" type=\"text/css\"/>\n",
      "<title>百度一下，你就知道</title>\n",
      "百度一下，你就知道\n"
     ]
    }
   ],
   "source": [
    "for child in soup.head.descendants:\n",
    "    print(child)"
   ]
  },
  {
   "cell_type": "code",
   "execution_count": 13,
   "metadata": {},
   "outputs": [
    {
     "name": "stdout",
     "output_type": "stream",
     "text": [
      " \n",
      "<a class=\"mnav\" href=\"http://www.hao123.com\" name=\"tj_trhao123\">hao123</a>\n",
      " \n",
      "None\n"
     ]
    }
   ],
   "source": [
    "print(soup.a.next_sibling)\n",
    "print(soup.a.next_sibling.next_sibling)\n",
    "print(soup.a.previous_sibling)\n",
    "print(soup.a.previous_sibling.previous._sibling)"
   ]
  },
  {
   "cell_type": "code",
   "execution_count": 14,
   "metadata": {},
   "outputs": [
    {
     "name": "stdout",
     "output_type": "stream",
     "text": [
      "<!DOCTYPE html>\n",
      "<!--STATUS OK-->\n",
      "<html>\n",
      " <head>\n",
      "  <meta content=\"text/html;charset=utf-8\" http-equiv=\"content-type\"/>\n",
      "  <meta content=\"IE=Edge\" http-equiv=\"X-UA-Compatible\"/>\n",
      "  <meta content=\"always\" name=\"referrer\"/>\n",
      "  <link href=\"http://s1.bdstatic.com/r/www/cache/bdorz/baidu.min.css\" rel=\"stylesheet\" type=\"text/css\"/>\n",
      "  <title>\n",
      "   百度一下，你就知道\n",
      "  </title>\n",
      " </head>\n",
      " <body link=\"#0000cc\">\n",
      "  <div id=\"wrapper\">\n",
      "   <div id=\"head\">\n",
      "    <div class=\"head_wrapper\">\n",
      "     <div class=\"s_form\">\n",
      "      <div class=\"s_form_wrapper\">\n",
      "       <div id=\"lg\">\n",
      "        <img height=\"129\" hidefocus=\"true\" src=\"//www.baidu.com/img/bd_logo1.png\" width=\"270\"/>\n",
      "       </div>\n",
      "       <form action=\"//www.baidu.com/s\" class=\"fm\" id=\"form\" name=\"f\">\n",
      "        <input name=\"bdorz_come\" type=\"hidden\" value=\"1\"/>\n",
      "        <input name=\"ie\" type=\"hidden\" value=\"utf-8\"/>\n",
      "        <input name=\"f\" type=\"hidden\" value=\"8\"/>\n",
      "        <input name=\"rsv_bp\" type=\"hidden\" value=\"1\"/>\n",
      "        <input name=\"rsv_idx\" type=\"hidden\" value=\"1\"/>\n",
      "        <input name=\"tn\" type=\"hidden\" value=\"baidu\"/>\n",
      "        <span class=\"bg s_ipt_wr\">\n",
      "         <input autocomplete=\"off\" autofocus=\"\" class=\"s_ipt\" id=\"kw\" maxlength=\"255\" name=\"wd\" value=\"\"/>\n",
      "        </span>\n",
      "        <span class=\"bg s_btn_wr\">\n",
      "         <input class=\"bg s_btn\" id=\"su\" type=\"submit\" value=\"百度一下\"/>\n",
      "        </span>\n",
      "       </form>\n",
      "      </div>\n",
      "     </div>\n",
      "     <div id=\"u1\">\n",
      "      <a class=\"mnav\" href=\"http://news.baidu.com\" name=\"tj_trnews\">\n",
      "       新闻\n",
      "      </a>\n",
      "      <a class=\"mnav\" href=\"http://www.hao123.com\" name=\"tj_trhao123\">\n",
      "       hao123\n",
      "      </a>\n",
      "      <a class=\"mnav\" href=\"http://map.baidu.com\" name=\"tj_trmap\">\n",
      "       地图\n",
      "      </a>\n",
      "      <a class=\"mnav\" href=\"http://v.baidu.com\" name=\"tj_trvideo\">\n",
      "       视频\n",
      "      </a>\n",
      "      <a class=\"mnav\" href=\"http://tieba.baidu.com\" name=\"tj_trtieba\">\n",
      "       贴吧\n",
      "      </a>\n",
      "      <noscript>\n",
      "       <a class=\"lb\" href=\"http://www.baidu.com/bdorz/login.gif?login&amp;tpl=mn&amp;u=http%3A%2F%2Fwww.baidu.com%2f%3fbdorz_come%3d1\" name=\"tj_login\">\n",
      "        登录\n",
      "       </a>\n",
      "      </noscript>\n",
      "      <script>\n",
      "       document.write('<a href=\"http://www.baidu.com/bdorz/login.gif?login&tpl=mn&u='+ encodeURIComponent(window.location.href+ (window.location.search === \"\" ? \"?\" : \"&\")+ \"bdorz_come=1\")+ '\" name=\"tj_login\" class=\"lb\">登录</a>');\n",
      "      </script>\n",
      "      <a class=\"bri\" href=\"//www.baidu.com/more/\" name=\"tj_briicon\" style=\"display: block;\">\n",
      "       更多产品\n",
      "      </a>\n",
      "     </div>\n",
      "    </div>\n",
      "   </div>\n",
      "   <div id=\"ftCon\">\n",
      "    <div id=\"ftConw\">\n",
      "     <p id=\"lh\">\n",
      "      <a href=\"http://home.baidu.com\">\n",
      "       关于百度\n",
      "      </a>\n",
      "      <a href=\"http://ir.baidu.com\">\n",
      "       About Baidu\n",
      "      </a>\n",
      "     </p>\n",
      "     <p id=\"cp\">\n",
      "      ©2017 Baidu\n",
      "      <a href=\"http://www.baidu.com/duty/\">\n",
      "       使用百度前必读\n",
      "      </a>\n",
      "      <a class=\"cp-feedback\" href=\"http://jianyi.baidu.com/\">\n",
      "       意见反馈\n",
      "      </a>\n",
      "      京ICP证030173号\n",
      "      <img src=\"//www.baidu.com/img/gs.gif\"/>\n",
      "     </p>\n",
      "    </div>\n",
      "   </div>\n",
      "  </div>\n",
      " </body>\n",
      "</html>\n",
      "\n"
     ]
    }
   ],
   "source": [
    "print(soup.prettify())"
   ]
  },
  {
   "cell_type": "code",
   "execution_count": 15,
   "metadata": {},
   "outputs": [
    {
     "name": "stdout",
     "output_type": "stream",
     "text": [
      "http://news.baidu.com\n",
      "http://www.hao123.com\n",
      "http://map.baidu.com\n",
      "http://v.baidu.com\n",
      "http://tieba.baidu.com\n",
      "http://www.baidu.com/bdorz/login.gif?login&tpl=mn&u=http%3A%2F%2Fwww.baidu.com%2f%3fbdorz_come%3d1\n",
      "//www.baidu.com/more/\n",
      "http://home.baidu.com\n",
      "http://ir.baidu.com\n",
      "http://www.baidu.com/duty/\n",
      "http://jianyi.baidu.com/\n"
     ]
    }
   ],
   "source": [
    "for link in soup.find_all('a'):\n",
    "    print(link.get('href'))"
   ]
  },
  {
   "cell_type": "code",
   "execution_count": 16,
   "metadata": {},
   "outputs": [
    {
     "data": {
      "text/plain": [
       "[<head><meta content=\"text/html;charset=utf-8\" http-equiv=\"content-type\"/><meta content=\"IE=Edge\" http-equiv=\"X-UA-Compatible\"/><meta content=\"always\" name=\"referrer\"/><link href=\"http://s1.bdstatic.com/r/www/cache/bdorz/baidu.min.css\" rel=\"stylesheet\" type=\"text/css\"/><title>百度一下，你就知道</title></head>,\n",
       " <a class=\"mnav\" href=\"http://news.baidu.com\" name=\"tj_trnews\">新闻</a>,\n",
       " <a class=\"mnav\" href=\"http://www.hao123.com\" name=\"tj_trhao123\">hao123</a>,\n",
       " <a class=\"mnav\" href=\"http://map.baidu.com\" name=\"tj_trmap\">地图</a>,\n",
       " <a class=\"mnav\" href=\"http://v.baidu.com\" name=\"tj_trvideo\">视频</a>,\n",
       " <a class=\"mnav\" href=\"http://tieba.baidu.com\" name=\"tj_trtieba\">贴吧</a>,\n",
       " <a class=\"lb\" href=\"http://www.baidu.com/bdorz/login.gif?login&amp;tpl=mn&amp;u=http%3A%2F%2Fwww.baidu.com%2f%3fbdorz_come%3d1\" name=\"tj_login\">登录</a>,\n",
       " <a class=\"bri\" href=\"//www.baidu.com/more/\" name=\"tj_briicon\" style=\"display: block;\">更多产品</a>,\n",
       " <a href=\"http://home.baidu.com\">关于百度</a>,\n",
       " <a href=\"http://ir.baidu.com\">About Baidu</a>,\n",
       " <a href=\"http://www.baidu.com/duty/\">使用百度前必读</a>,\n",
       " <a class=\"cp-feedback\" href=\"http://jianyi.baidu.com/\">意见反馈</a>]"
      ]
     },
     "execution_count": 16,
     "metadata": {},
     "output_type": "execute_result"
    }
   ],
   "source": [
    "soup.find_all(['a','head'])"
   ]
  },
  {
   "cell_type": "code",
   "execution_count": 17,
   "metadata": {},
   "outputs": [
    {
     "name": "stdout",
     "output_type": "stream",
     "text": [
      "[<a class=\"bri\" href=\"//www.baidu.com/more/\" name=\"tj_briicon\" style=\"display: block;\">更多产品</a>]\n",
      "[<a class=\"bri\" href=\"//www.baidu.com/more/\" name=\"tj_briicon\" style=\"display: block;\">更多产品</a>]\n",
      "[<a class=\"bri\" href=\"//www.baidu.com/more/\" name=\"tj_briicon\" style=\"display: block;\">更多产品</a>]\n"
     ]
    }
   ],
   "source": [
    "print(soup.find_all('a','bri'))\n",
    "print(soup.find_all('a', string = '更多产品'))\n",
    "print(soup('a', string = '更多产品'))"
   ]
  },
  {
   "cell_type": "code",
   "execution_count": 18,
   "metadata": {},
   "outputs": [
    {
     "name": "stdout",
     "output_type": "stream",
     "text": [
      "    1     　　　清华大学　　　\n",
      "    2     　　　北京大学　　　\n",
      "    3     　　　浙江大学　　　\n",
      "    4     　　上海交通大学　　\n",
      "    5     　　　复旦大学　　　\n",
      "    6     　　　南京大学　　　\n",
      "    7     　中国科学技术大学　\n",
      "    8     　哈尔滨工业大学　　\n",
      "    9     　　华中科技大学　　\n",
      "    10    　　　中山大学　　　\n",
      "    11    　　　东南大学　　　\n",
      "    12    　　　天津大学　　　\n",
      "    13    　　　同济大学　　　\n",
      "    14    　北京航空航天大学　\n",
      "    15    　　　四川大学　　　\n",
      "    16    　　　武汉大学　　　\n",
      "    17    　　西安交通大学　　\n"
     ]
    }
   ],
   "source": [
    "import requests\n",
    "from bs4 import BeautifulSoup\n",
    "import bs4\n",
    "\n",
    "def getHTMLText(url):\n",
    "    try:\n",
    "        r = requests.get(url)\n",
    "        r.raise_for_status()\n",
    "        r.encoding = r.apparent_encoding\n",
    "        return r.text\n",
    "    except:\n",
    "        return \"\"\n",
    "\n",
    "def fillUinvList(ulist, html):\n",
    "    soup = BeautifulSoup(html, \"html.parser\")\n",
    "    for tr in soup.find('tbody').children:\n",
    "        if isinstance(tr, bs4.element.Tag):\n",
    "            tds = tr('td')\n",
    "            ulist.append([tds[0].string, tds[1].string])\n",
    "\n",
    "def printUinvList(ulist, num):\n",
    "    tplt = \"{0:^10}{1:{2}^10}\"\n",
    "    for i in range(num):\n",
    "        u = ulist[i]\n",
    "        print(tplt.format(u[0],u[1],chr(12288)))\n",
    "    \n",
    "def main():\n",
    "    uinfo = []\n",
    "    url1 = \"http://zuihaodaxue.cn/zuihaodaxuepaiming2016.html\"\n",
    "    html = getHTMLText(url1)\n",
    "    fillUinvList(uinfo, html)\n",
    "    printUinvList(uinfo, 17)\n",
    "    \n",
    "main()"
   ]
  },
  {
   "cell_type": "code",
   "execution_count": null,
   "metadata": {},
   "outputs": [],
   "source": []
  }
 ],
 "metadata": {
  "kernelspec": {
   "display_name": "Python 3",
   "language": "python",
   "name": "python3"
  },
  "language_info": {
   "codemirror_mode": {
    "name": "ipython",
    "version": 3
   },
   "file_extension": ".py",
   "mimetype": "text/x-python",
   "name": "python",
   "nbconvert_exporter": "python",
   "pygments_lexer": "ipython3",
   "version": "3.6.5"
  }
 },
 "nbformat": 4,
 "nbformat_minor": 2
}
